{
 "cells": [
  {
   "cell_type": "code",
   "execution_count": 1,
   "metadata": {},
   "outputs": [],
   "source": [
    "import jax\n",
    "import jax.numpy as jnp\n",
    "import matplotlib.pyplot as plt\n",
    "from lalinference import BurstSineGaussian\n",
    "from ripplegw.waveforms import SineGaussian\n",
    "\n",
    "# Enable 64-bit precision\n",
    "jax.config.update(\"jax_enable_x64\", True)"
   ]
  },
  {
   "cell_type": "markdown",
   "metadata": {},
   "source": [
    "# 2048 sampling"
   ]
  },
  {
   "cell_type": "code",
   "execution_count": 5,
   "metadata": {},
   "outputs": [
    {
     "name": "stdout",
     "output_type": "stream",
     "text": [
      "1.1754943508222875e-38 1.1754943508222875e-38\n",
      "4.70197740328915e-38 1.88079096131566e-37\n",
      "0.0 1.504632769052528e-36\n",
      "4.1359030627651384e-25 4.1359030627651384e-25\n"
     ]
    }
   ],
   "source": [
    "sine_gaussian = SineGaussian(2048, 8.0)\n",
    "\n",
    "quality = jnp.array([3.0, 10.0, 100.0, 55.0])\n",
    "frequency = jnp.array([100.0, 500.0, 800.0, 961.0])\n",
    "hrss = jnp.array([1e-23, 1e-22, 1e-21, 4e-10])\n",
    "phase = jnp.array([0.0, jnp.pi / 2.0, jnp.pi, 2 * jnp.pi])\n",
    "eccentricity = jnp.array([0., 0.5, 1, 0.1])\n",
    "\n",
    "cross, plus = sine_gaussian(quality, frequency, hrss, phase, eccentricity)\n",
    "\n",
    "for i in range(4):\n",
    "    hplus, hcross = BurstSineGaussian(\n",
    "        Q=quality[i].item(),\n",
    "        centre_frequency=frequency[i].item(),\n",
    "        hrss=hrss[i].item(),\n",
    "        eccentricity=eccentricity[i].item(),\n",
    "        phase=phase[i].item(),\n",
    "        delta_t=1 / 2048,\n",
    "    )\n",
    "    hplus = hplus.data.data\n",
    "    hcross = hcross.data.data\n",
    "    n_samples = len(hplus)\n",
    "    start, stop = (\n",
    "        len(cross[i]) // 2 - n_samples // 2,\n",
    "        len(cross[i]) // 2 + n_samples // 2 + 1,\n",
    "    )\n",
    "    cross_, plus_ = cross[i][start:stop], plus[i][start:stop]\n",
    "    print(jnp.max(jnp.abs(hcross - cross_)), jnp.max(jnp.abs(hplus - plus_)))"
   ]
  },
  {
   "cell_type": "markdown",
   "metadata": {},
   "source": [
    "# 4096 sampling"
   ]
  },
  {
   "cell_type": "code",
   "execution_count": 6,
   "metadata": {},
   "outputs": [
    {
     "name": "stdout",
     "output_type": "stream",
     "text": [
      "1.1754943508222875e-38 1.1754943508222875e-38\n",
      "1.88079096131566e-37 1.88079096131566e-37\n",
      "0.0 1.504632769052528e-36\n",
      "4.1359030627651384e-25 4.1359030627651384e-25\n"
     ]
    }
   ],
   "source": [
    "sine_gaussian = SineGaussian(4096, 8.0)\n",
    "\n",
    "quality = jnp.array([3.0, 10.0, 100.0, 55.0])\n",
    "frequency = jnp.array([100.0, 500.0, 800.0, 961.0])\n",
    "hrss = jnp.array([1e-23, 1e-22, 1e-21, 4e-10])\n",
    "phase = jnp.array([0.0, jnp.pi / 2.0, jnp.pi, 2 * jnp.pi])\n",
    "eccentricity = jnp.array([0., 0.5, 1, 0.1])\n",
    "\n",
    "cross, plus = sine_gaussian(quality, frequency, hrss, phase, eccentricity)\n",
    "\n",
    "for i in range(4):\n",
    "    hplus, hcross = BurstSineGaussian(\n",
    "        Q=quality[i].item(),\n",
    "        centre_frequency=frequency[i].item(),\n",
    "        hrss=hrss[i].item(),\n",
    "        eccentricity=eccentricity[i].item(),\n",
    "        phase=phase[i].item(),\n",
    "        delta_t=1 / 4096,\n",
    "    )\n",
    "    hplus = hplus.data.data\n",
    "    hcross = hcross.data.data\n",
    "    n_samples = len(hplus)\n",
    "    start, stop = (\n",
    "        len(cross[i]) // 2 - n_samples // 2,\n",
    "        len(cross[i]) // 2 + n_samples // 2 + 1,\n",
    "    )\n",
    "    cross_, plus_ = cross[i][start:stop], plus[i][start:stop]\n",
    "    print(jnp.max(jnp.abs(hcross - cross_)), (hplus - plus_).max())"
   ]
  },
  {
   "cell_type": "code",
   "execution_count": null,
   "metadata": {},
   "outputs": [],
   "source": []
  }
 ],
 "metadata": {
  "kernelspec": {
   "display_name": "idk",
   "language": "python",
   "name": "python3"
  },
  "language_info": {
   "codemirror_mode": {
    "name": "ipython",
    "version": 3
   },
   "file_extension": ".py",
   "mimetype": "text/x-python",
   "name": "python",
   "nbconvert_exporter": "python",
   "pygments_lexer": "ipython3",
   "version": "3.1.undefined"
  }
 },
 "nbformat": 4,
 "nbformat_minor": 2
}
